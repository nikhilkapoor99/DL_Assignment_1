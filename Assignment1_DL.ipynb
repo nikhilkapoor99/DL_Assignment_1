{
 "cells": [
  {
   "cell_type": "code",
   "execution_count": 8,
   "id": "257273cd",
   "metadata": {},
   "outputs": [],
   "source": [
    "import numpy as np\n",
    "import urllib.request\n",
    "from sklearn.datasets import load_svmlight_file\n",
    "from io import BytesIO\n",
    "from sklearn.preprocessing import StandardScaler"
   ]
  },
  {
   "cell_type": "code",
   "execution_count": 9,
   "id": "f8bb5806",
   "metadata": {},
   "outputs": [],
   "source": [
    "# Defining the Perceptron class for classification\n",
    "class Perceptron(object):\n",
    "    def __init__(self, no_of_inputs, threshold=100, learning_rate=0.01):\n",
    "        \n",
    "        self.threshold = threshold                # Number of training iterations\n",
    "        self.learning_rate = learning_rate        # Learning rate for weight updates\n",
    "        self.weights = np.zeros(no_of_inputs + 1) # Initialize weights to zeros (including bias)\n",
    "\n",
    "    def predict(self, inputs):\n",
    "        # Computing the weighted sum of inputs and weights (including bias)\n",
    "        summation = np.dot(inputs, self.weights[1:]) + self.weights[0]\n",
    "        return 1 if summation > 0 else -1\n",
    "\n",
    "    def train(self, training_inputs, labels):\n",
    "        for _ in range(self.threshold):\n",
    "            for inputs, label in zip(training_inputs, labels):\n",
    "                # Making a prediction\n",
    "                prediction = self.predict(inputs)\n",
    "                # Updating the weights using the learning rate and prediction error\n",
    "                self.weights[1:] += self.learning_rate * (label - prediction) * inputs\n",
    "                self.weights[0] += self.learning_rate * (label - prediction)\n",
    "\n",
    "# Evaluating the accuracy of the Perceptron model\n",
    "def evaluate_perceptron_model(X, y, threshold=100, learning_rate=0.01):\n",
    "    p = Perceptron(X.shape[1], threshold, learning_rate)\n",
    "    p.train(X, y)\n",
    "    predictions = np.array([p.predict(x) for x in X])\n",
    "    correct_predictions = np.sum(predictions == y)\n",
    "    total_samples = y.shape[0]\n",
    "    accuracy = (correct_predictions / total_samples) * 100.0\n",
    "    return accuracy"
   ]
  },
  {
   "cell_type": "code",
   "execution_count": 10,
   "id": "99951b4a",
   "metadata": {},
   "outputs": [],
   "source": [
    "# Reading the preprocessed dataset from CSIE, NTU portal\n",
    "url = 'https://www.csie.ntu.edu.tw/~cjlin/libsvmtools/datasets/binary/diabetes_scale'\n",
    "with urllib.request.urlopen(url) as f:\n",
    "    data = f.read()\n",
    "\n",
    "# Converting the dataset to dense arrays\n",
    "X, y = load_svmlight_file(BytesIO(data))\n",
    "X = X.toarray()"
   ]
  },
  {
   "cell_type": "markdown",
   "id": "0eca2348",
   "metadata": {},
   "source": [
    "## Baseline Model"
   ]
  },
  {
   "cell_type": "code",
   "execution_count": 11,
   "id": "35175053",
   "metadata": {},
   "outputs": [
    {
     "name": "stdout",
     "output_type": "stream",
     "text": [
      "Baseline Model Accuracy: 58.72%\n"
     ]
    }
   ],
   "source": [
    "baseline_accuracy = evaluate_perceptron_model(X, y, threshold=100, learning_rate=0.01)\n",
    "print(f'Baseline Model Accuracy: {baseline_accuracy:.2f}%')"
   ]
  },
  {
   "cell_type": "markdown",
   "id": "acb0c541",
   "metadata": {},
   "source": [
    "## Most Accurate Model "
   ]
  },
  {
   "cell_type": "code",
   "execution_count": 12,
   "id": "238de073",
   "metadata": {},
   "outputs": [
    {
     "name": "stdout",
     "output_type": "stream",
     "text": [
      "Most Accurate Model Accuracy: 70.83%\n"
     ]
    }
   ],
   "source": [
    "scaled_X = StandardScaler().fit_transform(X)                       # Feature Scaling\n",
    "accurate_model_accuracy = evaluate_perceptron_model(scaled_X, y, threshold=1000, learning_rate=0.01)\n",
    "print(f'Most Accurate Model Accuracy: {accurate_model_accuracy:.2f}%')"
   ]
  }
 ],
 "metadata": {
  "kernelspec": {
   "display_name": "Python 3 (ipykernel)",
   "language": "python",
   "name": "python3"
  },
  "language_info": {
   "codemirror_mode": {
    "name": "ipython",
    "version": 3
   },
   "file_extension": ".py",
   "mimetype": "text/x-python",
   "name": "python",
   "nbconvert_exporter": "python",
   "pygments_lexer": "ipython3",
   "version": "3.11.4"
  }
 },
 "nbformat": 4,
 "nbformat_minor": 5
}
